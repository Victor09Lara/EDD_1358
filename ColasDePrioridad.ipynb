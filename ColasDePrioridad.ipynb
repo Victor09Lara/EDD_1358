{
  "nbformat": 4,
  "nbformat_minor": 0,
  "metadata": {
    "colab": {
      "provenance": [],
      "authorship_tag": "ABX9TyN0ZpkOp5kkmS4QUuLsID0F",
      "include_colab_link": true
    },
    "kernelspec": {
      "name": "python3",
      "display_name": "Python 3"
    },
    "language_info": {
      "name": "python"
    }
  },
  "cells": [
    {
      "cell_type": "markdown",
      "metadata": {
        "id": "view-in-github",
        "colab_type": "text"
      },
      "source": [
        "<a href=\"https://colab.research.google.com/github/Victor09Lara/EDD_1358/blob/main/ColasDePrioridad.ipynb\" target=\"_parent\"><img src=\"https://colab.research.google.com/assets/colab-badge.svg\" alt=\"Open In Colab\"/></a>"
      ]
    },
    {
      "cell_type": "markdown",
      "source": [
        "#ADT Colas "
      ],
      "metadata": {
        "id": "OwpCdstvGoxo"
      }
    },
    {
      "cell_type": "code",
      "source": [
        "package coladeprioridad;\n",
        "\n",
        "import java.util.ArrayList;\n",
        "\n",
        "\n",
        "public class Cola<T> {\n",
        "\n",
        "    private ArrayList lista;\n",
        "\n",
        "    public Cola() {\n",
        "        lista = new ArrayList();\n",
        "    }\n",
        "\n",
        "    public boolean is_empty() {\n",
        "        return lista.isEmpty();\n",
        "    }\n",
        "\n",
        "    public int length() {\n",
        "\n",
        "        return lista.size();\n",
        "    }\n",
        "\n",
        "    public void enqueue(T t) {\n",
        "        lista.add(t);\n",
        "    }\n",
        "\n",
        "    public T dequeue() {\n",
        "        T t;\n",
        "\n",
        "        if (is_empty())\n",
        "        {\n",
        "            t = null;\n",
        "        } else\n",
        "        {\n",
        "            t = (T) lista.get(0);\n",
        "            lista.remove(0);\n",
        "        }\n",
        "\n",
        "        return t;\n",
        "\n",
        "    }\n",
        "\n",
        "    @Override\n",
        "    public String toString() {\n",
        "        return  lista.toString() ;\n",
        "    }\n",
        "\n",
        "}"
      ],
      "metadata": {
        "id": "aaeMUgmqGl1V"
      },
      "execution_count": null,
      "outputs": []
    },
    {
      "cell_type": "markdown",
      "source": [
        "#Cola Acotada"
      ],
      "metadata": {
        "id": "ut4o7NeFGkb-"
      }
    },
    {
      "cell_type": "code",
      "execution_count": null,
      "metadata": {
        "id": "XTGi5FQkGdwK"
      },
      "outputs": [],
      "source": [
        "package coladeprioridad;\n",
        "\n",
        "import java.util.ArrayList;\n",
        "\n",
        "\n",
        "public class ColaAcotada <T>{\n",
        "\n",
        "    private ArrayList listaDeColas;\n",
        "    private int niveles;\n",
        "    \n",
        "    public ColaAcotada(int niveles) {\n",
        "    \n",
        "        this.niveles = niveles;\n",
        "        listaDeColas = new ArrayList(niveles);\n",
        "        for(int cont=0 ; cont<niveles; cont++){\n",
        "            listaDeColas.add(cont, new Cola());\n",
        "        }\n",
        "        \n",
        "    }\n",
        "    \n",
        "    public boolean is_empty(){\n",
        "        return contar()==0;\n",
        "    }\n",
        "    \n",
        "    public int length(){\n",
        "        return contar();\n",
        "    }\n",
        "    \n",
        "    public void enqueue(int prioridad,T elem){\n",
        "        if(prioridad<niveles){\n",
        "            Cola aux = (Cola) listaDeColas.get(prioridad);\n",
        "            aux.enqueue(elem);\n",
        "        }\n",
        "    }\n",
        "    \n",
        "    public T dequeue(){\n",
        "        T elem = null;\n",
        "        if(is_empty()){\n",
        "            elem = null;\n",
        "        }else{\n",
        "            boolean salida = true;\n",
        "            for(int cont = 0; salida; cont++){\n",
        "                Cola aux = (Cola) listaDeColas.get(cont);\n",
        "                if(aux.is_empty()){\n",
        "                    salida = true;\n",
        "                }else{\n",
        "                    elem = (T) aux.dequeue();\n",
        "                    salida = false;\n",
        "                }\n",
        "            }\n",
        "        }\n",
        "        \n",
        "        return elem;\n",
        "    }\n",
        "\n",
        "    @Override\n",
        "    public String toString() {\n",
        "        return \"ColaAcotada{\" + \"listaDeColas=\" + listaDeColas + '}';\n",
        "    }\n",
        "\n",
        "    \n",
        "    private int contar() {\n",
        "    \n",
        "        int total=0;\n",
        "        for(int cont =0; cont<niveles; cont++){\n",
        "            Cola aux = (Cola) listaDeColas.get(cont);\n",
        "            if(aux.is_empty()){\n",
        "                total += 0;\n",
        "            }else{\n",
        "                total += aux.length();\n",
        "            }\n",
        "        }\n",
        "        \n",
        "        return total;\n",
        "        \n",
        "    }\n",
        "    \n",
        "    \n",
        "}"
      ]
    },
    {
      "cell_type": "markdown",
      "source": [
        "#Main"
      ],
      "metadata": {
        "id": "2Fpd_UqXHOqC"
      }
    },
    {
      "cell_type": "code",
      "source": [
        "package coladeprioridad;\n",
        "\n",
        "public class ColaDePrioridad {\n",
        "\n",
        "    public static void main(String[] args) {\n",
        "        ColaAcotada cAcotada = new ColaAcotada(6);\n",
        "        System.out.println(\"Llegan los pasajeros a la cola: \");\n",
        "        cAcotada.enqueue(4, \"Maestre\");\n",
        "        System.out.println(cAcotada);\n",
        "        cAcotada.enqueue(2, \"Niños\");\n",
        "        System.out.println(cAcotada);\n",
        "        cAcotada.enqueue(4, \"Mecánico\");\n",
        "        System.out.println(cAcotada);\n",
        "        cAcotada.enqueue(3, \"Hombres\");\n",
        "        System.out.println(cAcotada);\n",
        "        cAcotada.enqueue(4, \"Vigia\");\n",
        "        System.out.println(cAcotada);\n",
        "        cAcotada.enqueue(5, \"Capitan\");\n",
        "        System.out.println(cAcotada);\n",
        "        cAcotada.enqueue(4, \"Timonel\");\n",
        "        System.out.println(cAcotada);\n",
        "        cAcotada.enqueue(3, \"Mujeres\");\n",
        "        System.out.println(cAcotada);\n",
        "        cAcotada.enqueue(2, \"3ra Edad\");\n",
        "        System.out.println(cAcotada);\n",
        "        cAcotada.enqueue(1, \"Niñas\");\n",
        "        System.out.println(cAcotada);\n",
        "        System.out.println(\"En la fila hay: \" + cAcotada.length() + \" personas\");\n",
        "        \n",
        "        System.out.println(\"Comienza la evacuacion del barco\");\n",
        "        do{\n",
        "            System.out.println(cAcotada.dequeue());\n",
        "        }while(!cAcotada.is_empty());\n",
        "        \n",
        "    }\n",
        "\n",
        "}"
      ],
      "metadata": {
        "id": "oMrmXTJRHSQ2"
      },
      "execution_count": null,
      "outputs": []
    }
  ]
}