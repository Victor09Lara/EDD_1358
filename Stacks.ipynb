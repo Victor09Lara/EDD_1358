{
  "nbformat": 4,
  "nbformat_minor": 0,
  "metadata": {
    "colab": {
      "provenance": [],
      "authorship_tag": "ABX9TyPQD/BFlz9f3T76t3qA/P4r",
      "include_colab_link": true
    },
    "kernelspec": {
      "name": "python3",
      "display_name": "Python 3"
    },
    "language_info": {
      "name": "python"
    }
  },
  "cells": [
    {
      "cell_type": "markdown",
      "metadata": {
        "id": "view-in-github",
        "colab_type": "text"
      },
      "source": [
        "<a href=\"https://colab.research.google.com/github/Victor09Lara/EDD_1358/blob/main/Stacks.ipynb\" target=\"_parent\"><img src=\"https://colab.research.google.com/assets/colab-badge.svg\" alt=\"Open In Colab\"/></a>"
      ]
    },
    {
      "cell_type": "code",
      "execution_count": null,
      "metadata": {
        "id": "_qeEUVqqcege"
      },
      "outputs": [],
      "source": [
        "package Stack;\n",
        "import java.util.Stack;\n",
        "\n",
        "public class Main {\n",
        "\tpublic static void main(String[] args) {\n",
        "\t\tStack Pila = new Stack();\n",
        "\t\t\n",
        "\t\tPila.push(30); // .push() Manda el elemento al final de la lista\n",
        "\t\tPila.push(40);\n",
        "\t\tPila.push(\"Hola\"); //Podemos colocar cualquier tipo de dato\n",
        "\t\tPila.push(11.1); // Este es el ultimo elemento que agregamos, por lo tanto es el primero\n",
        "\t\t\n",
        "\t\tSystem.out.println(Pila.size()); // .size() Indica el tamaño de la pila, False\n",
        "\t\tSystem.out.println(Pila); // [30, 40, Hola, 11.1] \n",
        "\t\tSystem.out.println(Pila.peek()); //.peek Nos muestra el primer elemento de la pila, en este caso 11.1\n",
        "\t\t\n",
        "\t\tPila.pop(); // .pop() Borra un elemento de la lista, en este caso 11.1 \n",
        "\t\tSystem.out.println(Pila); // Y queda [30, 40, Hola]. Siendo el Hola el ultimo elemento\n",
        "\t\n",
        "\t\tSystem.out.println(Pila.isEmpty()); //.isEmpty() Nos indica si esta vacia la pila, \n",
        "\n",
        "\t}\n",
        "}"
      ]
    }
  ]
}