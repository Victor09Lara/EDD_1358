{
  "nbformat": 4,
  "nbformat_minor": 0,
  "metadata": {
    "colab": {
      "provenance": [],
      "authorship_tag": "ABX9TyOmIkWXHwvn6iYbtW+2zeGW",
      "include_colab_link": true
    },
    "kernelspec": {
      "name": "python3",
      "display_name": "Python 3"
    },
    "language_info": {
      "name": "python"
    }
  },
  "cells": [
    {
      "cell_type": "markdown",
      "metadata": {
        "id": "view-in-github",
        "colab_type": "text"
      },
      "source": [
        "<a href=\"https://colab.research.google.com/github/Victor09Lara/EDD_1358/blob/main/Colas.ipynb\" target=\"_parent\"><img src=\"https://colab.research.google.com/assets/colab-badge.svg\" alt=\"Open In Colab\"/></a>"
      ]
    },
    {
      "cell_type": "markdown",
      "source": [
        "#ADT Colas"
      ],
      "metadata": {
        "id": "n1N0JbvBFnAL"
      }
    },
    {
      "cell_type": "code",
      "execution_count": null,
      "metadata": {
        "id": "Pzev835IFQoq"
      },
      "outputs": [],
      "source": [
        "package colas;\n",
        "\n",
        "import java.util.ArrayList;\n",
        "\n",
        "\n",
        "public class Cola<T> {\n",
        "\n",
        "    private ArrayList lista;\n",
        "\n",
        "    public Cola() {\n",
        "        lista = new ArrayList();\n",
        "    }\n",
        "\n",
        "    public boolean is_empty() {\n",
        "        return lista.isEmpty();\n",
        "    }\n",
        "\n",
        "    public int length() {\n",
        "\n",
        "        return lista.size();\n",
        "    }\n",
        "\n",
        "    public void enqueue(T t) {\n",
        "        lista.add(t);\n",
        "    }\n",
        "\n",
        "    public T dequeue() {\n",
        "        T t;\n",
        "\n",
        "        if (is_empty())\n",
        "        {\n",
        "            t = null;\n",
        "        } else\n",
        "        {\n",
        "            t = (T) lista.get(0);\n",
        "            lista.remove(0);\n",
        "        }\n",
        "\n",
        "        return t;\n",
        "\n",
        "    }\n",
        "\n",
        "    @Override\n",
        "    public String toString() {\n",
        "        return \"Cola{\" + \"lista=\" + lista + '}';\n",
        "    }\n",
        "\n",
        "}"
      ]
    },
    {
      "cell_type": "markdown",
      "source": [
        "#Main "
      ],
      "metadata": {
        "id": "T9uWzeOtFusO"
      }
    },
    {
      "cell_type": "code",
      "source": [
        "public class Colas {\n",
        "\n",
        "\n",
        "    public static void main(String[] args) {\n",
        "\n",
        "        Cola c = new Cola();\n",
        "        \n",
        "        System.out.println(\"La cola es la siguiente: \");\n",
        "        System.out.println(\"\");\n",
        "        c.enqueue(\"Elemento 1\");\n",
        "        c.enqueue(\"Elemento 2\");\n",
        "        c.enqueue(\"Elemento 3\");\n",
        "        c.enqueue(\"Elemento 4\");\n",
        "        c.enqueue(\"Elemento 5\");\n",
        "        c.enqueue(\"Elemento 6\");\n",
        "        c.enqueue(\"Elemento 7\");\n",
        "        c.enqueue(\"Elemento 8\");\n",
        "        c.enqueue(\"Elemento 9\");\n",
        "        c.enqueue(\"Elemento 10\");\n",
        "        \n",
        "        System.out.println(c);\n",
        "        System.out.println(\"Tamaño: \"+c.length());\n",
        "        \n",
        "        do{\n",
        "            System.out.println(c.dequeue());\n",
        "        }while(!c.is_empty());\n",
        "        \n",
        "        System.out.println(\"FIN DEL PROGRAMA\");\n",
        "    }\n",
        "    \n",
        "}\n"
      ],
      "metadata": {
        "id": "wGXqkikfFeQ_"
      },
      "execution_count": null,
      "outputs": []
    }
  ]
}