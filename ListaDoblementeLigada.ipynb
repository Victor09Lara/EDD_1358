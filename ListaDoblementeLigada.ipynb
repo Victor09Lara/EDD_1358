{
  "nbformat": 4,
  "nbformat_minor": 0,
  "metadata": {
    "colab": {
      "provenance": [],
      "authorship_tag": "ABX9TyN7Qd1NikcfPWrQVEdl05ow",
      "include_colab_link": true
    },
    "kernelspec": {
      "name": "python3",
      "display_name": "Python 3"
    },
    "language_info": {
      "name": "python"
    }
  },
  "cells": [
    {
      "cell_type": "markdown",
      "metadata": {
        "id": "view-in-github",
        "colab_type": "text"
      },
      "source": [
        "<a href=\"https://colab.research.google.com/github/Victor09Lara/EDD_1358/blob/main/ListaDoblementeLigada.ipynb\" target=\"_parent\"><img src=\"https://colab.research.google.com/assets/colab-badge.svg\" alt=\"Open In Colab\"/></a>"
      ]
    },
    {
      "cell_type": "markdown",
      "source": [
        "#Clase NodoDoble"
      ],
      "metadata": {
        "id": "wlT478jsN_aA"
      }
    },
    {
      "cell_type": "code",
      "execution_count": null,
      "metadata": {
        "id": "KOYAqzhpNjiR"
      },
      "outputs": [],
      "source": [
        "package lista.ligada;\n",
        "\n",
        "public class NodoDoble<T> {\n",
        "    private T dato;\n",
        "    private NodoDoble<T> siguiente;\n",
        "    private NodoDoble<T> anterior;\n",
        "    \n",
        "    public NodoDoble() {\n",
        "    }\n",
        "\n",
        "    public NodoDoble(T valor) {\n",
        "        this.dato = valor;\n",
        "    }\n",
        "\n",
        "    public NodoDoble(T dato, NodoDoble<T> siguiente) {\n",
        "        this.dato = dato;\n",
        "        this.siguiente = siguiente;\n",
        "    }\n",
        "\n",
        "    public NodoDoble<T> getSiguiente() {\n",
        "        return siguiente;\n",
        "    }\n",
        "\n",
        "    public void setSiguiente(NodoDoble<T> siguiente) {\n",
        "        this.siguiente = siguiente;\n",
        "    }\n",
        "    \n",
        "\n",
        "    public NodoDoble<T> getAnterior() {\n",
        "\t\treturn anterior;\n",
        "\t}\n",
        "\n",
        "\tpublic void setAnterior(NodoDoble<T> anterior) {\n",
        "\t\tthis.anterior = anterior;\n",
        "\t}\n",
        "\n",
        "\tpublic T getDato() {\n",
        "        return dato;\n",
        "    }\n",
        "\n",
        "    public void setDato(T dato) {\n",
        "        this.dato = dato;\n",
        "    }\n",
        "\n",
        "    @Override\n",
        "    public String toString() {\n",
        "        \n",
        "        return \"|\"+dato+\"| -->\"; \n",
        "    }\n",
        "    public String printAll(){\n",
        "        return \"[Dato = \" + dato + \"] -> [Siguiente : \" + this.getSiguiente() + \"]\";\n",
        "    }\n",
        "}"
      ]
    },
    {
      "cell_type": "markdown",
      "source": [
        "# Clase ListaDoblementeLigada"
      ],
      "metadata": {
        "id": "cZrIFJ8KOijh"
      }
    },
    {
      "cell_type": "code",
      "source": [
        "package lista.ligada;\n",
        "\n",
        "public class ListaDoblementeLigadaADT <T> {\n",
        "\t  \tNodoDoble<T> head;\n",
        "\t    int tamanio;\n",
        "\n",
        "\t    public ListaDoblementeLigadaADT() {\n",
        "\t        this.head = null;\n",
        "\t        this.tamanio = 0;\n",
        "\t    }\n",
        "\n",
        "\t    public boolean estaVacia() {\n",
        "\t        return this.head == null;\n",
        "\t    }\n",
        "\n",
        "\t    public int getTamanio() {\n",
        "\t        return tamanio;\n",
        "\t    }\n",
        "\n",
        "\t    public void agregarAlFinal(T valor) {\n",
        "\t        NodoDoble nuevo = new NodoDoble(valor);\n",
        "\t        if (this.estaVacia()) {\n",
        "\t            this.head = nuevo;\n",
        "\t        } else {\n",
        "\t            NodoDoble aux = this.head;\n",
        "\t            while (aux.getSiguiente() != null) {\n",
        "\t                aux = aux.getSiguiente();\n",
        "\t            }\n",
        "\t            nuevo.setAnterior(aux);\n",
        "\t            aux.setSiguiente(nuevo);\n",
        "\t            aux=null;\n",
        "\t            nuevo=null;\n",
        "\t        }\n",
        "\t    }\n",
        "\n",
        "\t    public void agregarAlInicio(T valor) {\n",
        "\t        NodoDoble nuevo = new NodoDoble(valor);\n",
        "\t        if (this.estaVacia()) {\n",
        "\t            this.head = nuevo;\n",
        "\t        } else {\n",
        "\t            nuevo.setSiguiente(this.head);\n",
        "\t            head.setAnterior(nuevo);\n",
        "\t            this.head = nuevo;\n",
        "\t        }\n",
        "\t    }\n",
        "\t    \n",
        "\t    public void agregarDespuesDe(T valor, int posicion){\n",
        "\t        NodoDoble nuevo = new NodoDoble(valor);\n",
        "\t        NodoDoble aux = this.head;\n",
        "\t        for (int contador = 1; contador <= posicion - 1; contador++) {\n",
        "\t            aux = aux.getSiguiente();\n",
        "\t        }\n",
        "\t        nuevo.setSiguiente(aux.getSiguiente());\n",
        "\t        aux.setSiguiente(nuevo);\n",
        "\t        nuevo.setAnterior(aux.getAnterior());\n",
        "\t        aux.setAnterior(nuevo);\n",
        "\t        \n",
        "\t    }\n",
        "\n",
        "\t    public void eliminar(int posicion){\n",
        "\t        NodoDoble aux = this.head;\n",
        "\t        for (int contador = 1; contador <= posicion - 1; contador++) {\n",
        "\t            aux = aux.getSiguiente();\n",
        "\t        }\n",
        "\t        \n",
        "\t        aux.setSiguiente(aux.getSiguiente().getSiguiente());\n",
        "\t        aux.setAnterior(aux.getAnterior().getAnterior());\n",
        "\t    }\n",
        "\t    \n",
        "\t    public void eliminarElPrimero() {\n",
        "\t    \tthis.head = head.getSiguiente();\n",
        "\t    }\n",
        "\t    \n",
        "\t    public void eliminarElFinal() {\n",
        "\t    \tNodoDoble aux = this.head;\n",
        "\t    \tfor (int contador = 1; contador <= tamanio-1; contador++) {\n",
        "\t            aux = aux.getSiguiente();\n",
        "\t           \n",
        "\t        }\n",
        "\t    \taux.setSiguiente(null);\n",
        "\t    \ttamanio=-1;\n",
        "\t    }\n",
        "\t    \t\n",
        "\t    \n",
        "\t    public void buscar(T valor) {\n",
        "\t    }\n",
        "\t    \n",
        "\t    public void actualizar(T valor) {\n",
        "\t    \t\n",
        "\t    \t\n",
        "\t    }\n",
        "\t    public void transversal() {\n",
        "\t        NodoDoble curr_node = this.head;\n",
        "\t        while (curr_node != null) {\n",
        "\t            System.out.print(curr_node);\n",
        "\t            curr_node = curr_node.getSiguiente();\n",
        "\t        }\n",
        "\t        System.out.println(\"\");\n",
        "\t    }\n",
        "}"
      ],
      "metadata": {
        "id": "UW98PtQBOrXw"
      },
      "execution_count": null,
      "outputs": []
    },
    {
      "cell_type": "markdown",
      "source": [
        "#Main"
      ],
      "metadata": {
        "id": "MxXhzng0OyAY"
      }
    },
    {
      "cell_type": "code",
      "source": [
        "package lista.ligada;\n",
        "\n",
        "\n",
        "public class Prueba {\n",
        "\tpublic static void main(String[] args) {\n",
        "\t\tListaDoblementeLigadaADT <Integer> lista = new ListaDoblementeLigadaADT();\n",
        "\t\t\n",
        "\t\tSystem.out.println(\"-,-,-,-,-,Prueba 1-,-,-,-,-,\");\n",
        "\t\tlista.agregarAlInicio(1);\n",
        "\t\tlista.agregarAlInicio(2);\n",
        "\t\tlista.agregarAlFinal(10);\n",
        "\t\tlista.agregarDespuesDe(7, 2);\n",
        "\t\tlista.eliminarElPrimero();\n",
        "\t\t//lista.eliminarElFinal();\n",
        "\t\tlista.transversal();\n",
        "\n",
        "\t}\n",
        "}"
      ],
      "metadata": {
        "id": "Z7NtN4yiOxaW"
      },
      "execution_count": null,
      "outputs": []
    }
  ]
}