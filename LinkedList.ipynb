{
  "nbformat": 4,
  "nbformat_minor": 0,
  "metadata": {
    "colab": {
      "provenance": [],
      "authorship_tag": "ABX9TyPTJ88Jc7p+RA/3aI+qa2VR",
      "include_colab_link": true
    },
    "kernelspec": {
      "name": "python3",
      "display_name": "Python 3"
    },
    "language_info": {
      "name": "python"
    }
  },
  "cells": [
    {
      "cell_type": "markdown",
      "metadata": {
        "id": "view-in-github",
        "colab_type": "text"
      },
      "source": [
        "<a href=\"https://colab.research.google.com/github/Victor09Lara/EDD_1358/blob/main/LinkedList.ipynb\" target=\"_parent\"><img src=\"https://colab.research.google.com/assets/colab-badge.svg\" alt=\"Open In Colab\"/></a>"
      ]
    },
    {
      "cell_type": "code",
      "execution_count": null,
      "metadata": {
        "id": "xNcYk0rVcGwG"
      },
      "outputs": [],
      "source": [
        "package LinkedList;\n",
        "import java.util.LinkedList; //Se debe importar la clase para poder usarla\n",
        "\n",
        "public class Main {\n",
        "\tpublic static void main(String[] args) {\n",
        "\t\tLinkedList Lista = new LinkedList();\n",
        "\t\tLista.add(\"Z\"); //.dd() Agrega un elemento al final de la LinkedList.\n",
        "\t\tLista.add(0,\"A\"); //Se  agregar un elemento en un índice específico en LinkedList.\n",
        "\t\tLista.add(1,\"B\");\n",
        "\t\tSystem.out.println(Lista); //[A, B, Z]\n",
        "\t\t\n",
        "\t\tLista.set(1,\"C\"); //Si queremos cambiar un elemento del LinkedList, tambien se hace un indice y lleva un set\n",
        "\t\tSystem.out.println(Lista); // [A, C, Z]\n",
        "\t\t\n",
        "\t\tLista.remove(\"A\"); //.remove() Elimina uno, o varios elementos del mismo\n",
        "\t\tSystem.out.println(Lista); //[C, Z]\n",
        "\t\t\n",
        "\t\tLista.remove(1); //.remove() Tambien elimina un elemento, a traves del indice\n",
        "\t\tSystem.out.println(Lista); //[C]\n",
        "\t\t\n",
        "\t\tLista.addFirst(\"A\"); //.ddFirt() Agrega un elemento al principio de LinkedList\n",
        "\t\tSystem.out.println(Lista); //[A, C]\n",
        "\t\t\n",
        "\t\tLista.clear();// .clear() Vacia la LinkedList.\n",
        "\t\tSystem.out.println(Lista); //[]\n",
        "\t\t\n",
        "\t}\n",
        "}"
      ]
    }
  ]
}