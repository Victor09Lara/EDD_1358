{
  "nbformat": 4,
  "nbformat_minor": 0,
  "metadata": {
    "colab": {
      "provenance": [],
      "authorship_tag": "ABX9TyNbbcapMV0LFsMsBrT4a228",
      "include_colab_link": true
    },
    "kernelspec": {
      "name": "python3",
      "display_name": "Python 3"
    },
    "language_info": {
      "name": "python"
    }
  },
  "cells": [
    {
      "cell_type": "markdown",
      "metadata": {
        "id": "view-in-github",
        "colab_type": "text"
      },
      "source": [
        "<a href=\"https://colab.research.google.com/github/Victor09Lara/EDD_1358/blob/main/TablaHash.ipynb\" target=\"_parent\"><img src=\"https://colab.research.google.com/assets/colab-badge.svg\" alt=\"Open In Colab\"/></a>"
      ]
    },
    {
      "cell_type": "markdown",
      "source": [
        "#ADT TablaHash"
      ],
      "metadata": {
        "id": "VZ2rRk7gwhVq"
      }
    },
    {
      "cell_type": "code",
      "execution_count": null,
      "metadata": {
        "id": "auaJXrJMwTtO"
      },
      "outputs": [],
      "source": [
        "import java.util.ArrayList;\n",
        "\n",
        "public class TablaHash <T>{\n",
        "\n",
        "    ArrayList<ArrayList> tabla;\n",
        "    private int table_size;\n",
        "    \n",
        "    public TablaHash(int table_size){\n",
        "        if(table_size!=0&&table_size!=1&&table_size!=4){\n",
        "            boolean esPrim = true;\n",
        "            for (int cont = 2; cont < table_size / 2; cont++)\n",
        "            {\n",
        "                if (table_size % cont == 0)\n",
        "                {\n",
        "                    esPrim = false;\n",
        "                }\n",
        "            }\n",
        "            if(esPrim==true){\n",
        "                this.table_size = table_size;\n",
        "                tabla = new ArrayList();\n",
        "                for(int cont = 0; cont<table_size;cont++){\n",
        "                    ArrayList tmp = new ArrayList();\n",
        "                    tabla.add(tmp);\n",
        "                }\n",
        "            }else{\n",
        "                System.out.println(\"El numero no es primo, falla en la inicializacion\");\n",
        "            }\n",
        "        }else{\n",
        "            System.out.println(\"El numero no es primo, falla en la inicializacion\");\n",
        "        }\n",
        "    }\n",
        "    \n",
        "    public void add(int key, T value){\n",
        "        \n",
        "        int indice = key%table_size;\n",
        "        Pares nuevoPar = new Pares(key,value);\n",
        "        ArrayList aux = tabla.get(indice);\n",
        "        aux.add(nuevoPar);\n",
        "        tabla.set(indice, aux);\n",
        "    }\n",
        "    \n",
        "    public T valueOf(int key){\n",
        "        T value = null;\n",
        "        \n",
        "        int indice = key%table_size;\n",
        "        ArrayList aux = tabla.get(indice);\n",
        "        for(int cont=0; cont<aux.size(); cont++){\n",
        "            Pares parActual = (Pares) aux.get(cont);\n",
        "            if(parActual.getKey()==key){\n",
        "                value = (T) parActual.getValue();\n",
        "            }\n",
        "        }\n",
        "        \n",
        "        return value;\n",
        "    }\n",
        "    \n",
        "    public void remove(int key){\n",
        "        int indice = key%table_size;\n",
        "        ArrayList aux = tabla.get(indice);\n",
        "        for(int cont=0; cont<aux.size(); cont++){\n",
        "            Pares parActual = (Pares) aux.get(cont);\n",
        "            if(parActual.getKey()==key){\n",
        "                aux.remove(cont);\n",
        "            }\n",
        "        }\n",
        "        \n",
        "    }\n",
        "\n",
        "    @Override\n",
        "    public String toString() {\n",
        "        return \"\" + tabla;\n",
        "    }\n",
        "    \n",
        "    \n",
        "}"
      ]
    },
    {
      "cell_type": "markdown",
      "source": [
        "#Pares"
      ],
      "metadata": {
        "id": "ZEZrndP7xW7a"
      }
    },
    {
      "cell_type": "code",
      "source": [
        "public class Pares<T> {\n",
        "\n",
        "    private int key;\n",
        "    private T value;\n",
        "\n",
        "    public Pares(int llave, T dato) {\n",
        "        this.key = llave;\n",
        "        this.value = dato;\n",
        "    }\n",
        "\n",
        "    public int getKey() {\n",
        "        return key;\n",
        "    }\n",
        "\n",
        "    public void setKey(int llave) {\n",
        "        this.key = llave;\n",
        "    }\n",
        "\n",
        "    public T getValue() {\n",
        "        return value;\n",
        "    }\n",
        "\n",
        "    public void setValue(T dato) {\n",
        "        this.value = dato;\n",
        "    }\n",
        "\n",
        "    @Override\n",
        "    public String toString() {\n",
        "        return \"Par: \" + \"key=\" + key + \", dato=\" + value;\n",
        "    }\n",
        "    \n",
        "    \n",
        "}"
      ],
      "metadata": {
        "id": "WAvKgWvgxOFB"
      },
      "execution_count": null,
      "outputs": []
    },
    {
      "cell_type": "markdown",
      "source": [
        "#Main"
      ],
      "metadata": {
        "id": "-ktYJPbgw6ok"
      }
    },
    {
      "cell_type": "code",
      "source": [
        "public class Main {\n",
        "\n",
        "    \n",
        "    public static void main(String[] args) {\n",
        "        TablaHash tabla = new TablaHash(13);\n",
        "        tabla.add(236,\"José\");\n",
        "        tabla.add(526,\"A\");\n",
        "        tabla.add(313,\"B\");\n",
        "        tabla.add(29,\"C\");\n",
        "        tabla.add(187,\"D\");\n",
        "        tabla.add(435,\"E\");\n",
        "\n",
        "        System.out.println(\"La tabla llena es la siguiente:\");\n",
        "        System.out.println(tabla);\n",
        "        \n",
        "        System.out.println(\"\\nComprobamos que identifique bien las llaves:\");\n",
        "        System.out.println(\"Llave 236: \" + tabla.valueOf(236));\n",
        "        System.out.println(\"Llave 435: \" + tabla.valueOf(435));\n",
        "        System.out.println(\"Llave 187: \" + tabla.valueOf(187));\n",
        "        System.out.println(\"Llave 29: \" + tabla.valueOf(29));\n",
        "        \n",
        "        System.out.println(\"\\nEliminamos 2 claves:\\n435\\n313\");\n",
        "        tabla.remove(435);\n",
        "        tabla.remove(313);\n",
        "        System.out.println(\"\\nEstado final de la tabla: \");\n",
        "        System.out.println(tabla);\n",
        "    }\n",
        "    \n",
        "}"
      ],
      "metadata": {
        "id": "V-e-uuMKw8m6"
      },
      "execution_count": null,
      "outputs": []
    }
  ]
}