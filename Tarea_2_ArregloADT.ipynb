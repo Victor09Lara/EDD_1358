{
  "nbformat": 4,
  "nbformat_minor": 0,
  "metadata": {
    "colab": {
      "name": "Tarea 2_ArregloADT.ipynb",
      "provenance": [],
      "authorship_tag": "ABX9TyONudfJywtsKik6PLIg2H8j",
      "include_colab_link": true
    },
    "kernelspec": {
      "name": "python3",
      "display_name": "Python 3"
    },
    "language_info": {
      "name": "python"
    }
  },
  "cells": [
    {
      "cell_type": "markdown",
      "metadata": {
        "id": "view-in-github",
        "colab_type": "text"
      },
      "source": [
        "<a href=\"https://colab.research.google.com/github/Victor09Lara/EDD_1358/blob/main/Tarea_2_ArregloADT.ipynb\" target=\"_parent\"><img src=\"https://colab.research.google.com/assets/colab-badge.svg\" alt=\"Open In Colab\"/></a>"
      ]
    },
    {
      "cell_type": "markdown",
      "source": [
        "#Clase ArregloADT"
      ],
      "metadata": {
        "id": "BpliMQiYKIxc"
      }
    },
    {
      "cell_type": "code",
      "execution_count": null,
      "metadata": {
        "id": "KDCFSd58J34Q"
      },
      "outputs": [],
      "source": [
        "package ADT;\n",
        "\n",
        "import java.util.ArrayList;\n",
        "\n",
        "public class ArregloADT<T> {\n",
        "\tprivate int tamanio;\n",
        "\t\n",
        "\tArrayList <T> datos;\n",
        "\n",
        "\tpublic ArregloADT(int tam){\n",
        "\t\tthis.tamanio=tam;\n",
        "\t\tdatos= new ArrayList(this.tamanio);\n",
        "\t\t\n",
        "\t\tfor(int i=0; i<this.tamanio; i++) {\n",
        "\t\t\tthis.datos.add(null);\n",
        "\t\t}\n",
        "\t}\n",
        "\n",
        "    public T getElemento(int indice) {\n",
        "        if (comprobacion(indice)) {\n",
        "            return this.datos.get(indice);\n",
        "        } else {\n",
        "            System.out.println(\"Fuera del limite\");\n",
        "        }\n",
        "        return null;\n",
        "    }\n",
        "\n",
        "    private boolean comprobacion(int indice) {\n",
        "        return indice >= 0 && indice < this.tamanio;\n",
        "    }\n",
        "\n",
        "    public void setElemento(int indice, T dato) {\n",
        "        if (comprobacion(indice)) {\n",
        "            this.datos.set(indice, dato);\n",
        "        } else {\n",
        "            System.out.println(\"Fuera del limite\");\n",
        "        }\n",
        "    }\n",
        "    public int getLongitud() {\n",
        "        return this.tamanio;\n",
        "    }\n",
        "\n",
        "    public void limpiar(T dato) {\n",
        "        for (int i = 0; i < this.tamanio; i++) {\n",
        "            this.datos.set(i, dato);\n",
        "        }\n",
        "    }\n",
        "    \n",
        "    public String toString(){\n",
        "    \tString estado = \"------------- \"+this.tamanio+\" -------------\\n\";\n",
        "        for (T dato : datos) {\n",
        "            if(dato != null){\n",
        "                estado += dato.toString()+\"\\n\";\n",
        "            }\n",
        "        }\n",
        "        return estado;\n",
        "    }\n",
        "\n",
        "\n",
        "}"
      ]
    },
    {
      "cell_type": "markdown",
      "source": [
        "#Clase Carro"
      ],
      "metadata": {
        "id": "7fOQTnY0KR8t"
      }
    },
    {
      "cell_type": "code",
      "source": [
        "package prueba.adt;\n",
        "\n",
        "public class Carro {\n",
        "  private String marcaCarro;\n",
        "    private String nombreCarro;\n",
        "    private String color;\n",
        "\n",
        "    public Carro() {\n",
        "    }\n",
        "\n",
        "    public Carro(String marcaCarro, String nombreCarro, String color) {\n",
        "        this.marcaCarro = marcaCarro;\n",
        "        this.nombreCarro = nombreCarro;\n",
        "        this.color = color;\n",
        "\n",
        "    }\n",
        "\n",
        "    public String getMarcaCarro() {\n",
        "        return marcaCarro;\n",
        "    }\n",
        "\n",
        "    public void setMarcaCarro(String marcaCarro) {\n",
        "        this.marcaCarro = marcaCarro;\n",
        "    }\n",
        "\n",
        "    public String getNombreCarro() {\n",
        "        return nombreCarro;\n",
        "    }\n",
        "\n",
        "    public void setNombreCarro(String nombre) {\n",
        "        this.nombreCarro = nombreCarro;\n",
        "    }\n",
        "\n",
        "    public String getColor() {\n",
        "        return color;\n",
        "    }\n",
        "\n",
        "    public void setColor(String color) {\n",
        "        this.color = color;\n",
        "    }\n",
        "\n",
        "    @Override\n",
        "    public String toString() {\n",
        "        return \"Alumno{\" + \"marcaCarro=\" + marcaCarro + \", nombreCarro=\" + nombreCarro + \", color=\" + color + '}';\n",
        "    }\n",
        "}"
      ],
      "metadata": {
        "id": "deG-lhFnKWqw"
      },
      "execution_count": null,
      "outputs": []
    },
    {
      "cell_type": "markdown",
      "source": [
        "#Clase Main - Comportamiento"
      ],
      "metadata": {
        "id": "l9LcnWBbKerf"
      }
    },
    {
      "cell_type": "code",
      "source": [
        "package prueba.adt;\n",
        "\n",
        "import ADT.ArregloADT;\n",
        "\n",
        "public class Main {\n",
        "\tpublic static void main(String[] args) {\n",
        "\t\t\n",
        "        Carro cRA=new Carro(\"Renault\", \"KG1\", \"Amarillo\");\n",
        "        Carro cTG=new Carro(\"Toyota\", \"Camry Hybrid\", \"Gris\");\n",
        "        Carro cFR=new Carro(\"Ferrari\", \"Sport Prototype\", \"Rojo\");\n",
        "\t\t\n",
        "\t\tArregloADT lista = new ArregloADT(5);\n",
        "\t\tlista.setElemento(1, cRA);\n",
        "\t\tlista.setElemento(2, cTG);\n",
        "        lista.setElemento(4, cFR);\n",
        "\t\tSystem.out.println(lista);\n",
        "\t}\n",
        "}\n"
      ],
      "metadata": {
        "id": "lYW8pfp-Kq4I"
      },
      "execution_count": null,
      "outputs": []
    },
    {
      "cell_type": "markdown",
      "source": [
        "#Resultado en consola.\n",
        "```\n",
        "------------- 5 -------------\n",
        "Alumno{marcaCarro=Renault, nombreCarro=KG1, color=Amarillo}\n",
        "Alumno{marcaCarro=Toyota, nombreCarro=Camry Hybrid, color=Gris}\n",
        "Alumno{marcaCarro=Ferrari, nombreCarro=Sport Prototype, color=Rojo}\n",
        "```\n",
        "\n"
      ],
      "metadata": {
        "id": "Ag55xb9FLAa1"
      }
    }
  ]
}