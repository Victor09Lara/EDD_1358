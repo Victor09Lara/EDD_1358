{
  "nbformat": 4,
  "nbformat_minor": 0,
  "metadata": {
    "colab": {
      "provenance": [],
      "authorship_tag": "ABX9TyPcaaYfpSm5sZWUHFzuUabA",
      "include_colab_link": true
    },
    "kernelspec": {
      "name": "python3",
      "display_name": "Python 3"
    },
    "language_info": {
      "name": "python"
    }
  },
  "cells": [
    {
      "cell_type": "markdown",
      "metadata": {
        "id": "view-in-github",
        "colab_type": "text"
      },
      "source": [
        "<a href=\"https://colab.research.google.com/github/Victor09Lara/EDD_1358/blob/main/ArrayList.ipynb\" target=\"_parent\"><img src=\"https://colab.research.google.com/assets/colab-badge.svg\" alt=\"Open In Colab\"/></a>"
      ]
    },
    {
      "cell_type": "code",
      "execution_count": null,
      "metadata": {
        "id": "UaX90QFxbpH6"
      },
      "outputs": [],
      "source": [
        "package ArrayList;\n",
        "\n",
        "import java.util.ArrayList; //Se debe importar la clase para poder usarla\n",
        "\n",
        "public class Main {\n",
        "\tpublic static void main(String[] args) {\n",
        "\t\t\n",
        "\t\tArrayList<Integer> ListaNumeros = new ArrayList<>(); // Hacemos declaracion e instancia\n",
        "\t\t\n",
        "\t\tListaNumeros.add(1); //0 //Con el metodo .add() vamos agregar elementos a la lista\n",
        "\t\tListaNumeros.add(2); //1\n",
        "\t\tListaNumeros.add(3); //2\n",
        "\t\t\n",
        "\t\tSystem.out.println(ListaNumeros); // Imprimimos y nos devuelve lo siguiente [1, 2, 3]\n",
        "\t\t\n",
        "\t\tListaNumeros.remove(2); // Con el metodo .remove() elimina un elemento de la lista, mediante indice\n",
        "\t\tSystem.out.println(ListaNumeros); // Asi queda nuentra lista [1, 2]\n",
        "\t\t\n",
        "\t\t\n",
        "\t\tSystem.out.println(ListaNumeros.size()); // El metodo .size() devuelve el numero de elemetos de lista. Es decir 2'\n",
        "\t\t\n",
        "\t\tListaNumeros.clear();\n",
        "\t\tSystem.out.println(ListaNumeros); //Limpia el ArrayList de elementos.\n",
        "\t}\n",
        "}\n"
      ]
    }
  ]
}